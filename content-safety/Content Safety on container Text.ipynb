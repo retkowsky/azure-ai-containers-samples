{
 "cells": [
  {
   "cell_type": "markdown",
   "id": "45ebad66",
   "metadata": {},
   "source": [
    "# Content Safety on container"
   ]
  },
  {
   "cell_type": "code",
   "execution_count": 1,
   "id": "6cdbe337",
   "metadata": {},
   "outputs": [],
   "source": [
    "#%pip install azure-ai-contentsafety"
   ]
  },
  {
   "cell_type": "code",
   "execution_count": 2,
   "id": "50bfaf79",
   "metadata": {},
   "outputs": [
    {
     "name": "stderr",
     "output_type": "stream",
     "text": [
      "C:\\Users\\seretkow\\Anaconda3\\lib\\site-packages\\paramiko\\transport.py:219: CryptographyDeprecationWarning: Blowfish has been deprecated\n",
      "  \"class\": algorithms.Blowfish,\n"
     ]
    }
   ],
   "source": [
    "import docker\n",
    "import os\n",
    "import requests\n",
    "\n",
    "from azure.ai.contentsafety import ContentSafetyClient\n",
    "from azure.core.credentials import AzureKeyCredential\n",
    "from azure.core.exceptions import HttpResponseError\n",
    "from azure.ai.contentsafety.models import AnalyzeTextOptions, TextCategory\n",
    "from dotenv import load_dotenv"
   ]
  },
  {
   "cell_type": "code",
   "execution_count": 3,
   "id": "783407cb",
   "metadata": {},
   "outputs": [],
   "source": [
    "load_dotenv(\"azure.env\")\n",
    "\n",
    "key = os.getenv(\"key\")"
   ]
  },
  {
   "cell_type": "code",
   "execution_count": 4,
   "id": "4070af27",
   "metadata": {},
   "outputs": [],
   "source": [
    "docker_model_endpoint = \"http://localhost:5000\""
   ]
  },
  {
   "cell_type": "code",
   "execution_count": 5,
   "id": "c2d35615",
   "metadata": {},
   "outputs": [
    {
     "data": {
      "text/plain": [
       "<docker.client.DockerClient at 0x23290022fd0>"
      ]
     },
     "execution_count": 5,
     "metadata": {},
     "output_type": "execute_result"
    }
   ],
   "source": [
    "docker_client = docker.from_env()\n",
    "docker_client"
   ]
  },
  {
   "cell_type": "code",
   "execution_count": 6,
   "id": "00319a89",
   "metadata": {},
   "outputs": [
    {
     "name": "stdout",
     "output_type": "stream",
     "text": [
      "Active Docker container(s):\n",
      "\n",
      "1 - Docker container name: peaceful_heisenberg\n",
      "Container image: <Image: 'mcr.microsoft.com/azure-cognitive-services/contentsafety/text-analyze:latest'>\n",
      "Container id: 7de950ca140439d163bd279a505cd2fc9fe90afd359ffe62bfe9f73b54a05519\n",
      "\n"
     ]
    }
   ],
   "source": [
    "print(\"Active Docker container(s):\\n\")\n",
    "\n",
    "for idx2, container in enumerate(docker_client.containers.list(), start=1):\n",
    "    print(f\"{idx2} - Docker container name: {container.name}\")\n",
    "    print(f\"Container image: {container.image}\")\n",
    "    print(f\"Container id: {container.id}\\n\")"
   ]
  },
  {
   "cell_type": "code",
   "execution_count": 7,
   "id": "a5f8be79",
   "metadata": {},
   "outputs": [],
   "source": [
    "def analyze_text(yourtext):\n",
    "    \"\"\"\n",
    "    Analyzes the given text using the Content Safety Client.\n",
    "\n",
    "    Parameters:\n",
    "    yourtext (str): The text to be analyzed.\n",
    "\n",
    "    Returns:\n",
    "    dict: A dictionary containing the categories analysis of the text.\n",
    "\n",
    "    Raises:\n",
    "    HttpResponseError: If the text analysis fails, an error message and code \n",
    "    are printed, and the exception is raised.\n",
    "    \"\"\"\n",
    "    # client\n",
    "    client = ContentSafetyClient(docker_model_endpoint,\n",
    "                                 AzureKeyCredential(key))\n",
    "    # request\n",
    "    request = AnalyzeTextOptions(text=yourtext)\n",
    "    try:\n",
    "        response = client.analyze_text(request)\n",
    "    except HttpResponseError as e:\n",
    "        print(\"Analyze text failed.\")\n",
    "        if e.error:\n",
    "            print(f\"Error code: {e.error.code}\")\n",
    "            print(f\"Error message: {e.error.message}\")\n",
    "            raise\n",
    "        print(e)\n",
    "        raise\n",
    "\n",
    "    return response[\"categoriesAnalysis\"]"
   ]
  },
  {
   "cell_type": "code",
   "execution_count": 8,
   "id": "8b02b0be",
   "metadata": {},
   "outputs": [
    {
     "data": {
      "text/plain": [
       "[{'category': 'selfHarm', 'severity': 0},\n",
       " {'category': 'violence', 'severity': 3},\n",
       " {'category': 'hate', 'severity': 0},\n",
       " {'category': 'sexual', 'severity': 0}]"
      ]
     },
     "execution_count": 8,
     "metadata": {},
     "output_type": "execute_result"
    }
   ],
   "source": [
    "analyze_text(\"I will kill this thing\")"
   ]
  },
  {
   "cell_type": "code",
   "execution_count": 9,
   "id": "83fab14e",
   "metadata": {},
   "outputs": [
    {
     "data": {
      "text/plain": [
       "[{'category': 'selfHarm', 'severity': 0},\n",
       " {'category': 'violence', 'severity': 0},\n",
       " {'category': 'hate', 'severity': 0},\n",
       " {'category': 'sexual', 'severity': 0}]"
      ]
     },
     "execution_count": 9,
     "metadata": {},
     "output_type": "execute_result"
    }
   ],
   "source": [
    "analyze_text(\"Hello\")"
   ]
  },
  {
   "cell_type": "code",
   "execution_count": null,
   "id": "b05347a9",
   "metadata": {},
   "outputs": [],
   "source": []
  }
 ],
 "metadata": {
  "kernelspec": {
   "display_name": "Python 3 (ipykernel)",
   "language": "python",
   "name": "python3"
  },
  "language_info": {
   "codemirror_mode": {
    "name": "ipython",
    "version": 3
   },
   "file_extension": ".py",
   "mimetype": "text/x-python",
   "name": "python",
   "nbconvert_exporter": "python",
   "pygments_lexer": "ipython3",
   "version": "3.9.12"
  },
  "varInspector": {
   "cols": {
    "lenName": 16,
    "lenType": 16,
    "lenVar": 40
   },
   "kernels_config": {
    "python": {
     "delete_cmd_postfix": "",
     "delete_cmd_prefix": "del ",
     "library": "var_list.py",
     "varRefreshCmd": "print(var_dic_list())"
    },
    "r": {
     "delete_cmd_postfix": ") ",
     "delete_cmd_prefix": "rm(",
     "library": "var_list.r",
     "varRefreshCmd": "cat(var_dic_list()) "
    }
   },
   "types_to_exclude": [
    "module",
    "function",
    "builtin_function_or_method",
    "instance",
    "_Feature"
   ],
   "window_display": false
  }
 },
 "nbformat": 4,
 "nbformat_minor": 5
}
