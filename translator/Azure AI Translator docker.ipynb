{
 "cells": [
  {
   "cell_type": "code",
   "execution_count": 2,
   "id": "a5242f2c",
   "metadata": {},
   "outputs": [],
   "source": [
    "import docker\n",
    "import os\n",
    "import requests\n",
    "import sys\n",
    "\n",
    "from dotenv import load_dotenv"
   ]
  },
  {
   "cell_type": "code",
   "execution_count": 3,
   "id": "86519636",
   "metadata": {},
   "outputs": [
    {
     "data": {
      "text/plain": [
       "'3.9.12 (main, Apr  4 2022, 05:22:27) [MSC v.1916 64 bit (AMD64)]'"
      ]
     },
     "execution_count": 3,
     "metadata": {},
     "output_type": "execute_result"
    }
   ],
   "source": [
    "sys.version"
   ]
  },
  {
   "cell_type": "code",
   "execution_count": 4,
   "id": "582add88",
   "metadata": {},
   "outputs": [],
   "source": [
    "docker_model_endpoint = \"http://127.0.0.1:5000\""
   ]
  },
  {
   "cell_type": "code",
   "execution_count": 5,
   "id": "784bfad3",
   "metadata": {},
   "outputs": [],
   "source": [
    "load_dotenv(\"azure.env\")\n",
    "\n",
    "key = os.getenv(\"key\")"
   ]
  },
  {
   "cell_type": "code",
   "execution_count": 6,
   "id": "97b63877",
   "metadata": {},
   "outputs": [
    {
     "name": "stdout",
     "output_type": "stream",
     "text": [
      "OK. Status code = 200\n"
     ]
    }
   ],
   "source": [
    "try:\n",
    "    response = requests.get(docker_model_endpoint)\n",
    "    respcode = response.status_code\n",
    "    if respcode == 200:\n",
    "        print(f\"OK. Status code = {respcode}\")\n",
    "    else:\n",
    "        print(f\"Failed to get status. Status code: {respcode}\")\n",
    "\n",
    "except requests.exceptions.RequestException as e:\n",
    "    print(f\"Request failed: {e}\")"
   ]
  },
  {
   "cell_type": "code",
   "execution_count": 7,
   "id": "ac7fc9e5",
   "metadata": {},
   "outputs": [
    {
     "data": {
      "text/plain": [
       "<docker.client.DockerClient at 0x1a35a774760>"
      ]
     },
     "execution_count": 7,
     "metadata": {},
     "output_type": "execute_result"
    }
   ],
   "source": [
    "docker_client = docker.from_env()\n",
    "docker_client"
   ]
  },
  {
   "cell_type": "code",
   "execution_count": 8,
   "id": "2ade2f1a",
   "metadata": {},
   "outputs": [
    {
     "name": "stdout",
     "output_type": "stream",
     "text": [
      "Active Docker container(s):\n",
      "\n",
      "1 - Docker container name: peaceful_hermann\n",
      "Container image: <Image: 'mcr.microsoft.com/azure-cognitive-services/translator/text-translation:latest'>\n",
      "Container id: 11d4b6c128f4e0898b00b7e3fd340fdc1d88ba383fbb0e7327115ca77b516f45\n",
      "\n"
     ]
    }
   ],
   "source": [
    "print(\"Active Docker container(s):\\n\")\n",
    "\n",
    "for idx2, container in enumerate(docker_client.containers.list(), start=1):\n",
    "    print(f\"{idx2} - Docker container name: {container.name}\")\n",
    "    print(f\"Container image: {container.image}\")\n",
    "    print(f\"Container id: {container.id}\\n\")"
   ]
  },
  {
   "cell_type": "code",
   "execution_count": 9,
   "id": "9df4c7b3",
   "metadata": {},
   "outputs": [],
   "source": [
    "def get_text_translation_from_docker(from_lang, to_lang, text):\n",
    "    \"\"\"\n",
    "    Translates text from one language to another using a local Dockerized \n",
    "    translation service.\n",
    "\n",
    "    Args:\n",
    "        from_lang (str): The language code of the source text (e.g., 'en' for English).\n",
    "        to_lang (str): The language code of the target text (e.g., 'es' for Spanish).\n",
    "        text (str): The text to be translated.\n",
    "\n",
    "    Returns:\n",
    "        None\n",
    "\n",
    "    This function sends a POST request to the local translation service running on Docker,\n",
    "    retrieves the translated text, and prints it in a formatted JSON structure.\n",
    "    \"\"\"\n",
    "    docker_translator_url = f'{docker_model_endpoint}/translate?api-version=3.0&from={from_lang}&to={to_lang}'\n",
    "    headers = {'Content-Type': 'application/json'}\n",
    "    body = [{'text': text}]\n",
    "\n",
    "    # Send the request to Docker\n",
    "    request = requests.post(docker_translator_url, headers=headers, json=body)\n",
    "    # Get the result\n",
    "    response = request.json()\n",
    "\n",
    "    return response[0][\"translations\"][0][\"text\"]"
   ]
  },
  {
   "cell_type": "markdown",
   "id": "2564d51c",
   "metadata": {},
   "source": [
    "## Tests"
   ]
  },
  {
   "cell_type": "code",
   "execution_count": 10,
   "id": "7eaf0f22",
   "metadata": {},
   "outputs": [
    {
     "name": "stdout",
     "output_type": "stream",
     "text": [
      "Text to translate:\n",
      "\n",
      "Microsoft Azure uses large-scale virtualization at Microsoft data centers worldwide and offers more than 600 services.[11] Microsoft Azure offers a service level agreement (SLA) that guarantees 99.9% availability for applications and data hosted on its platform, subject to specific terms and conditions outlined in the SLA documentation.\n"
     ]
    }
   ],
   "source": [
    "text = \"\"\"Microsoft Azure uses large-scale virtualization at Microsoft data centers worldwide and offers more \\\n",
    "than 600 services.[11] Microsoft Azure offers a service level agreement (SLA) that guarantees 99.9% \\\n",
    "availability for applications and data hosted on its platform, subject to specific terms and conditions \\\n",
    "outlined in the SLA documentation.\"\"\"\n",
    "\n",
    "print(f\"Text to translate:\\n\\n{text}\")"
   ]
  },
  {
   "cell_type": "code",
   "execution_count": 11,
   "id": "64c07a75",
   "metadata": {},
   "outputs": [
    {
     "data": {
      "text/plain": [
       "'Microsoft Azure utilise la virtualisation à grande échelle dans les centres de données Microsoft du monde entier et offre plus de 600 services. [11] Microsoft Azure propose un contrat de niveau de service (SLA) qui garantit une disponibilité de 99,9 % pour les applications et les données hébergées sur sa plateforme, sous réserve de conditions générales spécifiques décrites dans la documentation SLA.'"
      ]
     },
     "execution_count": 11,
     "metadata": {},
     "output_type": "execute_result"
    }
   ],
   "source": [
    "get_text_translation_from_docker(\"en\", \"fr\", text)"
   ]
  },
  {
   "cell_type": "code",
   "execution_count": 12,
   "id": "bc012130",
   "metadata": {},
   "outputs": [
    {
     "data": {
      "text/plain": [
       "'Microsoft Azure utiliza la virtualización a gran escala en los centros de datos de Microsoft en todo el mundo y ofrece más de 600 servicios. [11] Microsoft Azure ofrece un acuerdo de nivel de servicio (SLA) que garantiza una disponibilidad del 99,9 % para las aplicaciones y los datos alojados en su plataforma, sujeto a los términos y condiciones específicos descritos en la documentación del SLA.'"
      ]
     },
     "execution_count": 12,
     "metadata": {},
     "output_type": "execute_result"
    }
   ],
   "source": [
    "get_text_translation_from_docker(\"en\", \"es\", text)"
   ]
  },
  {
   "cell_type": "code",
   "execution_count": null,
   "id": "afeddc3b",
   "metadata": {},
   "outputs": [],
   "source": []
  },
  {
   "cell_type": "code",
   "execution_count": 13,
   "id": "d93423d9",
   "metadata": {},
   "outputs": [
    {
     "name": "stdout",
     "output_type": "stream",
     "text": [
      "Text to translate:\n",
      "\n",
      "Expande tus habilidades de IA con las tecnologías más recientes presentadas en Microsoft Ignite.Paga por uso o prueba Azure gratis hasta 30 días. No hay ningún compromiso por adelantado; puedes cancelar en cualquier momento.\n"
     ]
    }
   ],
   "source": [
    "text = \"\"\"Expande tus habilidades de IA con las tecnologías más recientes presentadas en Microsoft Ignite.\\\n",
    "Paga por uso o prueba Azure gratis hasta 30 días. No hay ningún compromiso por adelantado; puedes cancelar \\\n",
    "en cualquier momento.\"\"\"\n",
    "\n",
    "print(f\"Text to translate:\\n\\n{text}\")"
   ]
  },
  {
   "cell_type": "code",
   "execution_count": 14,
   "id": "b1f6ca2e",
   "metadata": {},
   "outputs": [
    {
     "data": {
      "text/plain": [
       "'Développez vos compétences en IA avec les dernières technologies présentées dans Microsoft Ignite.Payez au fur et à mesure ou essayez Azure gratuitement pendant 30 jours maximum. Il n’y a pas d’engagement initial\\xa0; Vous pouvez annuler à tout moment.'"
      ]
     },
     "execution_count": 14,
     "metadata": {},
     "output_type": "execute_result"
    }
   ],
   "source": [
    "get_text_translation_from_docker(\"es\", \"fr\", text)"
   ]
  },
  {
   "cell_type": "code",
   "execution_count": 15,
   "id": "9eefb831",
   "metadata": {},
   "outputs": [
    {
     "data": {
      "text/plain": [
       "'Expand your AI skills with the latest technologies introduced at Microsoft Ignite.Pay as you go or try Azure free for up to 30 days. There is no upfront commitment; You can cancel at any time.'"
      ]
     },
     "execution_count": 15,
     "metadata": {},
     "output_type": "execute_result"
    }
   ],
   "source": [
    "get_text_translation_from_docker(\"es\", \"en\", text)"
   ]
  },
  {
   "cell_type": "code",
   "execution_count": null,
   "id": "1bd65b3c",
   "metadata": {},
   "outputs": [],
   "source": []
  }
 ],
 "metadata": {
  "kernelspec": {
   "display_name": "Python 3 (ipykernel)",
   "language": "python",
   "name": "python3"
  },
  "language_info": {
   "codemirror_mode": {
    "name": "ipython",
    "version": 3
   },
   "file_extension": ".py",
   "mimetype": "text/x-python",
   "name": "python",
   "nbconvert_exporter": "python",
   "pygments_lexer": "ipython3",
   "version": "3.9.12"
  },
  "varInspector": {
   "cols": {
    "lenName": 16,
    "lenType": 16,
    "lenVar": 40
   },
   "kernels_config": {
    "python": {
     "delete_cmd_postfix": "",
     "delete_cmd_prefix": "del ",
     "library": "var_list.py",
     "varRefreshCmd": "print(var_dic_list())"
    },
    "r": {
     "delete_cmd_postfix": ") ",
     "delete_cmd_prefix": "rm(",
     "library": "var_list.r",
     "varRefreshCmd": "cat(var_dic_list()) "
    }
   },
   "types_to_exclude": [
    "module",
    "function",
    "builtin_function_or_method",
    "instance",
    "_Feature"
   ],
   "window_display": false
  }
 },
 "nbformat": 4,
 "nbformat_minor": 5
}
