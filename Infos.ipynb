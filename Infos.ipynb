{
 "cells": [
  {
   "cell_type": "markdown",
   "id": "0adfc393",
   "metadata": {},
   "source": [
    "# Docker Info"
   ]
  },
  {
   "cell_type": "code",
   "execution_count": 1,
   "id": "1e83013f",
   "metadata": {},
   "outputs": [
    {
     "name": "stderr",
     "output_type": "stream",
     "text": [
      "C:\\Users\\seretkow\\Anaconda3\\lib\\site-packages\\paramiko\\transport.py:219: CryptographyDeprecationWarning: Blowfish has been deprecated\n",
      "  \"class\": algorithms.Blowfish,\n"
     ]
    }
   ],
   "source": [
    "import docker\n",
    "import os"
   ]
  },
  {
   "cell_type": "code",
   "execution_count": 2,
   "id": "a82f4dcc",
   "metadata": {},
   "outputs": [],
   "source": [
    "docker_model_endpoint = \"http://localhost:5000\""
   ]
  },
  {
   "cell_type": "code",
   "execution_count": 3,
   "id": "1f8fbcf5",
   "metadata": {},
   "outputs": [
    {
     "data": {
      "text/plain": [
       "<docker.client.DockerClient at 0x13f8d6b8b80>"
      ]
     },
     "execution_count": 3,
     "metadata": {},
     "output_type": "execute_result"
    }
   ],
   "source": [
    "docker_client = docker.from_env()\n",
    "docker_client"
   ]
  },
  {
   "cell_type": "code",
   "execution_count": 4,
   "id": "4e9b03a3",
   "metadata": {},
   "outputs": [
    {
     "name": "stdout",
     "output_type": "stream",
     "text": [
      "Active Docker container(s):\n",
      "\n",
      "1 - Docker container name: trusting_meninsky\n",
      "Container image: <Image: 'swimmingpools:latest'>\n",
      "Container id: a581d318ab044980c3d6825b256dad30cf0c2db54a52ddf1e22385efc70e1593\n",
      "\n"
     ]
    }
   ],
   "source": [
    "print(\"Active Docker container(s):\\n\")\n",
    "\n",
    "for idx, container in enumerate(docker_client.containers.list(), start=1):\n",
    "    print(f\"{idx} - Docker container name: {container.name}\")\n",
    "    print(f\"Container image: {container.image}\")\n",
    "    print(f\"Container id: {container.id}\\n\")"
   ]
  },
  {
   "cell_type": "code",
   "execution_count": 22,
   "id": "5006d955",
   "metadata": {},
   "outputs": [
    {
     "name": "stdout",
     "output_type": "stream",
     "text": [
      "1. Image ID: sha256:cb83fd9848cd8afbd0ccd547b110be52d0e4557924c011b716aeaf4a1bd33534\n",
      "Tags: ['swimmingpools:latest']\n",
      "Created: 2025-04-08T15:17:53.436458184Z\n",
      "Size: 80.07 MB\n",
      "\n",
      "2. Image ID: sha256:b50e4ee1faa9b73f33bc6e0f5952a222bdc1b4334ece7956cd75d8efa8731cc2\n",
      "Tags: ['damageclassification:latest']\n",
      "Created: 2025-04-08T15:17:28.219966663Z\n",
      "Size: 94.95 MB\n",
      "\n",
      "3. Image ID: sha256:7b62d8976c582a3c5b99f670851bcfb60d2f648969f2aa3035ee159b2841adb5\n",
      "Tags: ['mcr.microsoft.com/azure-cognitive-services/textanalytics/summarization:cpu']\n",
      "Created: 2025-02-23T01:04:15.320534899Z\n",
      "Size: 231.61 MB\n",
      "\n",
      "4. Image ID: sha256:be3a0f26c78767649c8636a133d67fde0377e03ea36216c83fe5f019aafb3b18\n",
      "Tags: ['mcr.microsoft.com/azure-cognitive-services/form-recognizer/read-3.1:latest']\n",
      "Created: 2024-11-07T02:37:41.641165582Z\n",
      "Size: 2064.73 MB\n",
      "\n"
     ]
    }
   ],
   "source": [
    "images = docker_client.images.list()\n",
    "\n",
    "for idx, image in enumerate(images, start=1):\n",
    "    size_in_mb = image.attrs['Size'] / (1024 * 1024)\n",
    "    print(f\"{idx}. Image ID: {image.id}\")\n",
    "    print(f\"Tags: {image.tags}\")\n",
    "    print(f\"Created: {image.attrs['Created']}\")\n",
    "    print(f\"Size: {size_in_mb:.2f} MB\")\n",
    "    print()"
   ]
  },
  {
   "cell_type": "code",
   "execution_count": null,
   "id": "008c220d",
   "metadata": {},
   "outputs": [],
   "source": []
  }
 ],
 "metadata": {
  "kernelspec": {
   "display_name": "Python 3 (ipykernel)",
   "language": "python",
   "name": "python3"
  },
  "language_info": {
   "codemirror_mode": {
    "name": "ipython",
    "version": 3
   },
   "file_extension": ".py",
   "mimetype": "text/x-python",
   "name": "python",
   "nbconvert_exporter": "python",
   "pygments_lexer": "ipython3",
   "version": "3.9.12"
  },
  "varInspector": {
   "cols": {
    "lenName": 16,
    "lenType": 16,
    "lenVar": 40
   },
   "kernels_config": {
    "python": {
     "delete_cmd_postfix": "",
     "delete_cmd_prefix": "del ",
     "library": "var_list.py",
     "varRefreshCmd": "print(var_dic_list())"
    },
    "r": {
     "delete_cmd_postfix": ") ",
     "delete_cmd_prefix": "rm(",
     "library": "var_list.r",
     "varRefreshCmd": "cat(var_dic_list()) "
    }
   },
   "types_to_exclude": [
    "module",
    "function",
    "builtin_function_or_method",
    "instance",
    "_Feature"
   ],
   "window_display": false
  }
 },
 "nbformat": 4,
 "nbformat_minor": 5
}
