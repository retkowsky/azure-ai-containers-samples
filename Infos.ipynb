{
 "cells": [
  {
   "cell_type": "markdown",
   "id": "0adfc393",
   "metadata": {},
   "source": [
    "# Docker Info"
   ]
  },
  {
   "cell_type": "code",
   "execution_count": 1,
   "id": "1e83013f",
   "metadata": {},
   "outputs": [],
   "source": [
    "import docker\n",
    "import os\n",
    "import pandas as pd\n",
    "import requests"
   ]
  },
  {
   "cell_type": "code",
   "execution_count": 2,
   "id": "a82f4dcc",
   "metadata": {},
   "outputs": [],
   "source": [
    "docker_model_endpoint = \"http://localhost:80\""
   ]
  },
  {
   "cell_type": "code",
   "execution_count": 3,
   "id": "29352f74",
   "metadata": {},
   "outputs": [
    {
     "name": "stdout",
     "output_type": "stream",
     "text": [
      "OK. Status code = 200\n"
     ]
    }
   ],
   "source": [
    "try:\n",
    "    response = requests.get(docker_model_endpoint)\n",
    "    respcode = response.status_code\n",
    "    if respcode == 200:\n",
    "        print(f\"OK. Status code = {respcode}\")\n",
    "    else:\n",
    "        print(f\"Failed to get status. Status code: {respcode}\")\n",
    "\n",
    "except requests.exceptions.RequestException as e:\n",
    "    print(f\"Request failed: {e}\")"
   ]
  },
  {
   "cell_type": "code",
   "execution_count": 4,
   "id": "1f8fbcf5",
   "metadata": {},
   "outputs": [
    {
     "data": {
      "text/plain": [
       "<docker.client.DockerClient at 0x184cd03e730>"
      ]
     },
     "execution_count": 4,
     "metadata": {},
     "output_type": "execute_result"
    }
   ],
   "source": [
    "docker_client = docker.from_env()\n",
    "docker_client"
   ]
  },
  {
   "cell_type": "code",
   "execution_count": 5,
   "id": "4e9b03a3",
   "metadata": {},
   "outputs": [
    {
     "name": "stdout",
     "output_type": "stream",
     "text": [
      "Active Docker container(s):\n",
      "\n",
      "1 - Docker container name: vibrant_mccarthy\n",
      "Container image: <Image: 'damageclassification:latest'>\n",
      "Container id: 615152411e3b4dde144a496c22bc3603eeebf536c373fd916ee514ff7e20da98\n",
      "\n"
     ]
    }
   ],
   "source": [
    "print(\"Active Docker container(s):\\n\")\n",
    "\n",
    "for idx, container in enumerate(docker_client.containers.list(), start=1):\n",
    "    print(f\"{idx} - Docker container name: {container.name}\")\n",
    "    print(f\"Container image: {container.image}\")\n",
    "    print(f\"Container id: {container.id}\\n\")"
   ]
  },
  {
   "cell_type": "code",
   "execution_count": 6,
   "id": "8b4b515a",
   "metadata": {},
   "outputs": [
    {
     "name": "stdout",
     "output_type": "stream",
     "text": [
      "Stopping the container...\n",
      "Done\n"
     ]
    }
   ],
   "source": [
    "# How to stop a container\n",
    "container = docker_client.containers.get('615152411e3b4dde144a496c22bc3603eeebf536c373fd916ee514ff7e20da98')\n",
    "\n",
    "print(\"Stopping the container...\")\n",
    "container.stop()\n",
    "print(\"Done\")"
   ]
  },
  {
   "cell_type": "code",
   "execution_count": 7,
   "id": "f97832d0",
   "metadata": {},
   "outputs": [],
   "source": [
    "for idx, container in enumerate(docker_client.containers.list(), start=1):\n",
    "    print(f\"{idx} - Docker container name: {container.name}\")\n",
    "    print(f\"Container image: {container.image}\")\n",
    "    print(f\"Container id: {container.id}\\n\")"
   ]
  },
  {
   "cell_type": "code",
   "execution_count": 8,
   "id": "989bbf88",
   "metadata": {},
   "outputs": [
    {
     "name": "stdout",
     "output_type": "stream",
     "text": [
      "Starting the container...\n",
      "Done\n"
     ]
    }
   ],
   "source": [
    "container = docker_client.containers.get('615152411e3b4dde144a496c22bc3603eeebf536c373fd916ee514ff7e20da98')\n",
    "\n",
    "print(\"Starting the container...\")\n",
    "container.start()\n",
    "print(\"Done\")"
   ]
  },
  {
   "cell_type": "code",
   "execution_count": 9,
   "id": "b18acbe5",
   "metadata": {},
   "outputs": [
    {
     "name": "stdout",
     "output_type": "stream",
     "text": [
      "Active Docker container(s):\n",
      "\n",
      "1 - Docker container name: vibrant_mccarthy\n",
      "Container image: <Image: 'damageclassification:latest'>\n",
      "Container id: 615152411e3b4dde144a496c22bc3603eeebf536c373fd916ee514ff7e20da98\n",
      "\n"
     ]
    }
   ],
   "source": [
    "print(\"Active Docker container(s):\\n\")\n",
    "\n",
    "for idx, container in enumerate(docker_client.containers.list(), start=1):\n",
    "    print(f\"{idx} - Docker container name: {container.name}\")\n",
    "    print(f\"Container image: {container.image}\")\n",
    "    print(f\"Container id: {container.id}\\n\")"
   ]
  },
  {
   "cell_type": "code",
   "execution_count": 10,
   "id": "5006d955",
   "metadata": {},
   "outputs": [
    {
     "name": "stdout",
     "output_type": "stream",
     "text": [
      "Docker images list\n",
      "\n",
      "1. Image ID: sha256:cb83fd9848cd8afbd0ccd547b110be52d0e4557924c011b716aeaf4a1bd33534\n",
      "Tags: ['swimmingpools:latest']\n",
      "Created: 2025-04-08T15:17:53.436458184Z\n",
      "Size: 80.07 MB\n",
      "\n",
      "2. Image ID: sha256:b50e4ee1faa9b73f33bc6e0f5952a222bdc1b4334ece7956cd75d8efa8731cc2\n",
      "Tags: ['damageclassification:latest']\n",
      "Created: 2025-04-08T15:17:28.219966663Z\n",
      "Size: 94.95 MB\n",
      "\n",
      "3. Image ID: sha256:96b7667cb536ab69bfd5cc0c2bd1e29602218e076fe6d34f402b786f17b4fde0\n",
      "Tags: ['ollama/ollama:latest']\n",
      "Created: 2025-04-07T04:37:09.595567773Z\n",
      "Size: 1689.54 MB\n",
      "\n",
      "4. Image ID: sha256:bec17568a31b01a7e45af56d150bee91a6da28e37d51907d31330e92555f4f6e\n",
      "Tags: ['mcr.microsoft.com/azure-cognitive-services/form-recognizer/layout-4.0:2024-11-30']\n",
      "Created: 2025-03-26T07:44:51.014472896Z\n",
      "Size: 2353.72 MB\n",
      "\n",
      "5. Image ID: sha256:7b62d8976c582a3c5b99f670851bcfb60d2f648969f2aa3035ee159b2841adb5\n",
      "Tags: ['mcr.microsoft.com/azure-cognitive-services/textanalytics/summarization:cpu']\n",
      "Created: 2025-02-23T01:04:15.320534899Z\n",
      "Size: 231.61 MB\n",
      "\n",
      "6. Image ID: sha256:be3a0f26c78767649c8636a133d67fde0377e03ea36216c83fe5f019aafb3b18\n",
      "Tags: ['mcr.microsoft.com/azure-cognitive-services/form-recognizer/read-3.1:latest']\n",
      "Created: 2024-11-07T02:37:41.641165582Z\n",
      "Size: 2064.73 MB\n",
      "\n"
     ]
    }
   ],
   "source": [
    "print(\"Docker images list\\n\")\n",
    "\n",
    "for idx, image in enumerate(docker_client.images.list(), start=1):\n",
    "    size_in_mb = image.attrs['Size'] / (1024 * 1024)\n",
    "    print(f\"{idx}. Image ID: {image.id}\")\n",
    "    print(f\"Tags: {image.tags}\")\n",
    "    print(f\"Created: {image.attrs['Created']}\")\n",
    "    print(f\"Size: {size_in_mb:.2f} MB\")\n",
    "    print()"
   ]
  },
  {
   "cell_type": "code",
   "execution_count": 11,
   "id": "008c220d",
   "metadata": {},
   "outputs": [
    {
     "data": {
      "text/html": [
       "<div>\n",
       "<style scoped>\n",
       "    .dataframe tbody tr th:only-of-type {\n",
       "        vertical-align: middle;\n",
       "    }\n",
       "\n",
       "    .dataframe tbody tr th {\n",
       "        vertical-align: top;\n",
       "    }\n",
       "\n",
       "    .dataframe thead th {\n",
       "        text-align: right;\n",
       "    }\n",
       "</style>\n",
       "<table border=\"1\" class=\"dataframe\">\n",
       "  <thead>\n",
       "    <tr style=\"text-align: right;\">\n",
       "      <th></th>\n",
       "      <th>Image ID</th>\n",
       "      <th>Tags</th>\n",
       "      <th>Created</th>\n",
       "      <th>Size (MB)</th>\n",
       "    </tr>\n",
       "  </thead>\n",
       "  <tbody>\n",
       "    <tr>\n",
       "      <th>0</th>\n",
       "      <td>sha256:cb83fd9848cd8afbd0ccd547b110be52d0e4557...</td>\n",
       "      <td>[swimmingpools:latest]</td>\n",
       "      <td>2025-04-08T15:17:53.436458184Z</td>\n",
       "      <td>80.073529</td>\n",
       "    </tr>\n",
       "    <tr>\n",
       "      <th>1</th>\n",
       "      <td>sha256:b50e4ee1faa9b73f33bc6e0f5952a222bdc1b43...</td>\n",
       "      <td>[damageclassification:latest]</td>\n",
       "      <td>2025-04-08T15:17:28.219966663Z</td>\n",
       "      <td>94.953945</td>\n",
       "    </tr>\n",
       "    <tr>\n",
       "      <th>2</th>\n",
       "      <td>sha256:96b7667cb536ab69bfd5cc0c2bd1e29602218e0...</td>\n",
       "      <td>[ollama/ollama:latest]</td>\n",
       "      <td>2025-04-07T04:37:09.595567773Z</td>\n",
       "      <td>1689.535648</td>\n",
       "    </tr>\n",
       "    <tr>\n",
       "      <th>3</th>\n",
       "      <td>sha256:bec17568a31b01a7e45af56d150bee91a6da28e...</td>\n",
       "      <td>[mcr.microsoft.com/azure-cognitive-services/fo...</td>\n",
       "      <td>2025-03-26T07:44:51.014472896Z</td>\n",
       "      <td>2353.715893</td>\n",
       "    </tr>\n",
       "    <tr>\n",
       "      <th>4</th>\n",
       "      <td>sha256:7b62d8976c582a3c5b99f670851bcfb60d2f648...</td>\n",
       "      <td>[mcr.microsoft.com/azure-cognitive-services/te...</td>\n",
       "      <td>2025-02-23T01:04:15.320534899Z</td>\n",
       "      <td>231.609796</td>\n",
       "    </tr>\n",
       "    <tr>\n",
       "      <th>5</th>\n",
       "      <td>sha256:be3a0f26c78767649c8636a133d67fde0377e03...</td>\n",
       "      <td>[mcr.microsoft.com/azure-cognitive-services/fo...</td>\n",
       "      <td>2024-11-07T02:37:41.641165582Z</td>\n",
       "      <td>2064.727790</td>\n",
       "    </tr>\n",
       "  </tbody>\n",
       "</table>\n",
       "</div>"
      ],
      "text/plain": [
       "                                            Image ID  \\\n",
       "0  sha256:cb83fd9848cd8afbd0ccd547b110be52d0e4557...   \n",
       "1  sha256:b50e4ee1faa9b73f33bc6e0f5952a222bdc1b43...   \n",
       "2  sha256:96b7667cb536ab69bfd5cc0c2bd1e29602218e0...   \n",
       "3  sha256:bec17568a31b01a7e45af56d150bee91a6da28e...   \n",
       "4  sha256:7b62d8976c582a3c5b99f670851bcfb60d2f648...   \n",
       "5  sha256:be3a0f26c78767649c8636a133d67fde0377e03...   \n",
       "\n",
       "                                                Tags  \\\n",
       "0                             [swimmingpools:latest]   \n",
       "1                      [damageclassification:latest]   \n",
       "2                             [ollama/ollama:latest]   \n",
       "3  [mcr.microsoft.com/azure-cognitive-services/fo...   \n",
       "4  [mcr.microsoft.com/azure-cognitive-services/te...   \n",
       "5  [mcr.microsoft.com/azure-cognitive-services/fo...   \n",
       "\n",
       "                          Created    Size (MB)  \n",
       "0  2025-04-08T15:17:53.436458184Z    80.073529  \n",
       "1  2025-04-08T15:17:28.219966663Z    94.953945  \n",
       "2  2025-04-07T04:37:09.595567773Z  1689.535648  \n",
       "3  2025-03-26T07:44:51.014472896Z  2353.715893  \n",
       "4  2025-02-23T01:04:15.320534899Z   231.609796  \n",
       "5  2024-11-07T02:37:41.641165582Z  2064.727790  "
      ]
     },
     "execution_count": 11,
     "metadata": {},
     "output_type": "execute_result"
    }
   ],
   "source": [
    "image_details = []\n",
    "\n",
    "for idx, image in enumerate(docker_client.images.list(), start=1):\n",
    "    size_in_mb = image.attrs['Size'] / (1024 * 1024)\n",
    "    image_details.append({\n",
    "        \"Image ID\": image.id,\n",
    "        \"Tags\": image.tags,\n",
    "        \"Created\": image.attrs['Created'],\n",
    "        \"Size (MB)\": size_in_mb\n",
    "    })\n",
    "\n",
    "df = pd.DataFrame(image_details)\n",
    "df"
   ]
  },
  {
   "cell_type": "code",
   "execution_count": null,
   "id": "efac0d1b",
   "metadata": {},
   "outputs": [],
   "source": []
  }
 ],
 "metadata": {
  "kernelspec": {
   "display_name": "Python 3 (ipykernel)",
   "language": "python",
   "name": "python3"
  },
  "language_info": {
   "codemirror_mode": {
    "name": "ipython",
    "version": 3
   },
   "file_extension": ".py",
   "mimetype": "text/x-python",
   "name": "python",
   "nbconvert_exporter": "python",
   "pygments_lexer": "ipython3",
   "version": "3.9.12"
  },
  "varInspector": {
   "cols": {
    "lenName": 16,
    "lenType": 16,
    "lenVar": 40
   },
   "kernels_config": {
    "python": {
     "delete_cmd_postfix": "",
     "delete_cmd_prefix": "del ",
     "library": "var_list.py",
     "varRefreshCmd": "print(var_dic_list())"
    },
    "r": {
     "delete_cmd_postfix": ") ",
     "delete_cmd_prefix": "rm(",
     "library": "var_list.r",
     "varRefreshCmd": "cat(var_dic_list()) "
    }
   },
   "types_to_exclude": [
    "module",
    "function",
    "builtin_function_or_method",
    "instance",
    "_Feature"
   ],
   "window_display": false
  }
 },
 "nbformat": 4,
 "nbformat_minor": 5
}
